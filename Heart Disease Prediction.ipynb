PyCharm Community edition supports Jupyter notebooks in read-only mode, to get full support for local notebooks download and try PyCharm Professional now!


Try DataSpell — a dedicated IDE for data science,
with full support for local and remote notebooks


Try Datalore — an online environment
for Jupyter notebooks in the browser

Also read more about JetBrains Data Solutions on our website

[1]
import pandas as pd
import numpy as np
import matplotlib.pyplot as plt
import seaborn as sns
import random as rnd
import os
import warnings
import joblib
from sklearn.metrics import confusion_matrix,accuracy_score
from sklearn.metrics import classification_report
from operator import add
import pickle
MEDIUM_SIZE = 10
SMALL_SIZE = 8
MEDIUM_SIZE = 10
BIGGER_SIZE = 12
import sys
sys.path.append("C:/")
dir = 'C:/Users/rahmata/'

%matplotlib inline
warnings.filterwarnings('ignore')
import numpy as np
import pandas as pd
import seaborn as sns
import matplotlib.pyplot as plt
from sklearn.svm import SVC
from sklearn import svm
from sklearn.model_selection import cross_val_score
from sklearn.preprocessing import StandardScaler
from sklearn.preprocessing import OrdinalEncoder
from sklearn.pipeline import Pipeline
from sklearn.compose import ColumnTransformer

---------------------------------------------------------------------------
ModuleNotFoundError Traceback (most recent call last)
c:\Users\SaudRD\Downloads\Compressed\Heart\streamlit-main\Heart Disease Prediction.ipynb Cell 1' in <cell line: 4>() <a href='vscode-notebook-cell:/c%3A/Users/SaudRD/Downloads/Compressed/Heart/streamlit-main/Heart%20Disease%20Prediction.ipynb#ch0000000?line=1'>2</a> import numpy as np <a href='vscode-notebook-cell:/c%3A/Users/SaudRD/Downloads/Compressed/Heart/streamlit-main/Heart%20Disease%20Prediction.ipynb#ch0000000?line=2'>3</a> import matplotlib.pyplot as plt ----> <a href='vscode-notebook-cell:/c%3A/Users/SaudRD/Downloads/Compressed/Heart/streamlit-main/Heart%20Disease%20Prediction.ipynb#ch0000000?line=3'>4</a> import seaborn as sns <a href='vscode-notebook-cell:/c%3A/Users/SaudRD/Downloads/Compressed/Heart/streamlit-main/Heart%20Disease%20Prediction.ipynb#ch0000000?line=4'>5</a> import random as rnd <a href='vscode-notebook-cell:/c%3A/Users/SaudRD/Downloads/Compressed/Heart/streamlit-main/Heart%20Disease%20Prediction.ipynb#ch0000000?line=5'>6</a> import os
ModuleNotFoundError: No module named 'seaborn'
df = pd.read_csv(os.path.join(dir,'heart.csv'))
df.head(10)

print(df.info())
missing_values = (df.isnull().sum() / len(df)) * 100
print("\nFeatures with missing values: \n", missing_values[missing_values > 0])
<class 'pandas.core.frame.DataFrame'>
RangeIndex: 303 entries, 0 to 302
Data columns (total 12 columns):
 #   Column    Non-Null Count  Dtype  
---  ------    --------------  -----  
 0   age       303 non-null    int64  
 1   sex       303 non-null    int64  
 2   cp        303 non-null    int64  
 3   trestbps  303 non-null    int64  
 4   chol      303 non-null    int64  
 5   fbs       303 non-null    int64  
 6   restecg   303 non-null    int64  
 7   thalach   303 non-null    int64  
 8   exang     303 non-null    int64  
 9   oldpeak   303 non-null    float64
 10  slope     303 non-null    int64  
 11  target    303 non-null    int64  
dtypes: float64(1), int64(11)
memory usage: 28.5 KB
None

Features with missing values: 
 Series([], dtype: float64)

print(np.char.center(" Unique values of categorical variables ", 60, fillchar = "*"))
print("\nSex: ", df.sex.unique())
print("Cp: ", sorted(df.cp.unique()))
print("fbs: ", sorted(df.fbs.unique()))
print("restecg: ", sorted(df.restecg.unique()))
print("exang: ", sorted(df.exang.unique()))
print("slope: ", sorted(df.slope.unique()))

print("target: ", sorted(df.target.unique()))
********** Unique values of categorical variables **********

Sex:  ['fimail' 'mail']
Cp:  [0, 1, 2, 3]
fbs:  [0, 1]
restecg:  [0, 1, 2]
exang:  [0, 1]
slope:  [0, 1, 2]
target:  [0, 1]

def draw_semi_pie_chart(data, column, fig, renamed_index_dict, title):
    default_colors = ['#66b3ff', '#ff9999', '#99ff99', '#ffcc99', '#c2c2f0', '#ffb3e6', '#ff6666']
    rnd.shuffle(default_colors)
    ax = df[column].value_counts().rename(index = renamed_index_dict).plot.pie(colors = default_colors, autopct='%1.1f%%', startangle=90, title = title)
    ax.set_ylabel('')
    for item in ([ax.title, ax.xaxis.label, ax.yaxis.label] + ax.get_xticklabels() + ax.get_yticklabels()):
        item.set_fontsize(20)
        
    centre_circle = plt.Circle((0,0), 0.70, fc='white')
    fig.gca().add_artist(centre_circle)
fig = plt.gcf()
fig.set_size_inches(18, 17)
grid_rows = 3
grid_cols = 3

# Draw Sex Pie chart
plt.subplot(grid_rows, grid_cols, 1)
draw_semi_pie_chart(df, 'sex', fig, {0: 'Female', 1: 'Male'}, 'Sex')

# Draw Chest pain type chart
plt.subplot(grid_rows, grid_cols, 2)
draw_semi_pie_chart(df, 'cp', fig, {0:'Typical Angina', 1:'Atypical Angina', 2:'Non-anginal Pain',3:'Asymptomatic'}, 'Chest Pain Type')

# Draw Fasting blood sugar chart
plt.subplot(grid_rows, grid_cols, 3)
draw_semi_pie_chart(df, 'fbs', fig, {0:'True', 1:'False'}, 'Fasting Blood Sugar')

# Draw restecg - resting electrocardiographic results
plt.subplot(grid_rows, grid_cols, 4)
draw_semi_pie_chart(df, 'restecg', fig, {0:'Normal', 1:'Abnormality', 2:'Left Ventricular Hypertrophy'}, 'Resting Electrocardiographic Results')

# Draw exang - exercise induced angina
plt.subplot(grid_rows, grid_cols, 5)
draw_semi_pie_chart(df, 'exang', fig, {0:'Not Induced', 1:'Induced'}, 'Exercise Induced Angina')

# Draw exang - exercise induced angina
plt.subplot(grid_rows, grid_cols, 6)
draw_semi_pie_chart(df, 'slope', fig, {0:'Upsloping', 1:'Flat', 2:'Downsloping'}, 'Slope')



fig.tight_layout()
plt.show()

fig = plt.gcf()
fig.set_size_inches(15, 8)
sns.heatmap(df.corr(), annot = True)
plt.show()

X=df.drop(['target'],axis=1)
y=pd.DataFrame(df['target'])
from sklearn.model_selection import train_test_split
X_train,X_test,y_train,y_test = train_test_split(X,y,test_size=0.8)
# Scaling
trf1 = ColumnTransformer([
    ('scale',StandardScaler(),[0,3,4,7,9])
],remainder='passthrough')
trf2 = svm.SVC(probability=True)
pipe = Pipeline([
    ('trf1',trf1),
    ('trf2',trf2)
])
pipe.fit(X_train,y_train)
Pipeline(steps=[('trf1',
                 ColumnTransformer(remainder='passthrough',
                                   transformers=[('scale', StandardScaler(),
                                                  [0, 3, 4, 7, 9])])),
                ('trf2', SVC(probability=True))])
#test_input2 = np.array([40, 'M','ATA', 140, 289, 0, 'Normal',172,'N',0,'Up'],dtype=object).reshape(1,11)
X_test

preds=pipe.predict(X_test)
preds
array([0, 1, 1, 0, 0, 0, 1, 1, 0, 0, 0, 1, 1, 0, 1, 0, 1, 0, 1, 1, 0, 0,
       1, 0, 1, 0, 0, 1, 1, 1, 0, 0, 1, 0, 0, 1, 1, 1, 1, 1, 0, 0, 0, 0,
       0, 1, 1, 0, 0, 1, 1, 0, 0, 1, 1, 1, 1, 0, 0, 0, 1, 0, 1, 0, 1, 0,
       0, 0, 1, 0, 1, 0, 1, 0, 1, 1, 0, 0, 1, 1, 1, 0, 0, 1, 0, 1, 0, 0,
       1, 1, 0, 1, 1, 0, 1, 1, 0, 0, 0, 0, 0, 0, 1, 1, 0, 0, 0, 1, 1, 0,
       1, 1, 1, 0, 0, 1, 1, 0, 0, 1, 1, 0, 1, 0, 1, 0, 1, 1, 0, 1, 1, 1,
       1, 0, 0, 1, 1, 0, 0, 1, 1, 1, 0, 1, 1, 1, 0, 1, 0, 1, 0, 1, 0, 1,
       1, 1, 1, 1, 1, 1, 1, 0, 0, 1, 1, 0, 1, 1, 0, 0, 0, 1, 1, 1, 1, 0,
       0, 1, 0, 0, 1, 1, 0, 0, 0, 0, 1, 1, 0, 1, 1, 0, 1, 1, 1, 0, 1, 0,
       1, 1, 0, 1, 1, 1, 1, 1, 1, 0, 1, 1, 1, 1, 0, 1, 1, 1, 1, 1, 0, 1,
       1, 1, 1, 1, 1, 0, 1, 0, 1, 0, 0, 1, 1, 1, 1, 1, 1, 1, 1, 0, 1, 1,
       0], dtype=int64)
print('Classification Report\n', classification_report(y_test, preds))
print('Accuracy: {}%\n'.format(round((accuracy_score(y_test, preds)*100),2)))

cm = confusion_matrix(y_test, preds)
print(cm)
Classification Report
               precision    recall  f1-score   support

           0       0.78      0.72      0.75       111
           1       0.78      0.83      0.80       132

    accuracy                           0.78       243
   macro avg       0.78      0.77      0.77       243
weighted avg       0.78      0.78      0.78       243

Accuracy: 77.78%

[[ 80  31]
 [ 23 109]]

import pickle

pickle.dump(df,open('C:\\Users\\SaudRD\\Downloads\\Compressed\\Heart\\streamlit-main\\df.pkl','wb'))
pickle.dump(pipe,open('C:\\Users\\SaudRD\\Downloads\\Compressed\\Heart\\streamlit-main\\pipe.pkl','wb'))
